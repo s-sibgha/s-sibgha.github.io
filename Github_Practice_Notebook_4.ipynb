{
 "cells": [
  {
   "cell_type": "markdown",
   "id": "0eccbce0-4d66-4691-b8de-3616fefd5648",
   "metadata": {},
   "source": [
    "# Python Practice Notebook – Chapter 3: Conditional Execution\n",
    "\n",
    "This notebook covers:\n",
    "- `if`, `elif`, `else`\n",
    "- Comparison Operators\n",
    "- Boolean Logic\n",
    "- Nested Conditionals\n",
    "- `try`/`except` error handling\n",
    "- Real-life practice examples (age, grading, billing, form validation, etc.)"
   ]
  },
  {
   "cell_type": "markdown",
   "id": "9822ff7e-e02d-4a07-825f-90f429114452",
   "metadata": {},
   "source": [
    "# 1. Basic If Statements\n"
   ]
  },
  {
   "cell_type": "code",
   "execution_count": 9,
   "id": "7134f962-9416-48b5-ad40-5e7c69cfbd34",
   "metadata": {},
   "outputs": [
    {
     "name": "stdout",
     "output_type": "stream",
     "text": [
      "Enter your age:  20\n"
     ]
    },
    {
     "name": "stdout",
     "output_type": "stream",
     "text": [
      "You are eligible to vote.\n"
     ]
    }
   ],
   "source": [
    "# Input age and check if person is eligible to vote\n",
    "age = int(input(\"Enter your age: \"))\n",
    "if age >= 18:\n",
    "    print(\"You are eligible to vote.\")\n",
    "if age < 18:\n",
    "    print(\"You are not eligible to vote.\")"
   ]
  },
  {
   "cell_type": "markdown",
   "id": "9a6f0644-7e1e-41b7-9389-eaf1dca938bf",
   "metadata": {},
   "source": [
    "# 2. if-else and elif Statements"
   ]
  },
  {
   "cell_type": "code",
   "execution_count": 2,
   "id": "5462e5d5-02bc-4143-84be-4abc7d572728",
   "metadata": {},
   "outputs": [
    {
     "name": "stdout",
     "output_type": "stream",
     "text": [
      "Enter your marks (0–100):  98\n"
     ]
    },
    {
     "name": "stdout",
     "output_type": "stream",
     "text": [
      "Grade: A\n"
     ]
    }
   ],
   "source": [
    "# Grade checker based on marks\n",
    "marks = int(input(\"Enter your marks (0–100): \"))\n",
    "if marks >= 90:\n",
    "    print(\"Grade: A\")\n",
    "elif marks >= 75:\n",
    "    print(\"Grade: B\")\n",
    "elif marks >= 50:\n",
    "    print(\"Grade: C\")\n",
    "else:\n",
    "    print(\"Grade: F – You need improvement\")"
   ]
  },
  {
   "cell_type": "markdown",
   "id": "fc11451e-df77-4a1e-9941-90039c34e9ff",
   "metadata": {},
   "source": [
    "# 3. Nested Conditionals"
   ]
  },
  {
   "cell_type": "code",
   "execution_count": 19,
   "id": "7d7d805e-7fa3-452a-b014-7832008bb5f6",
   "metadata": {},
   "outputs": [
    {
     "name": "stdout",
     "output_type": "stream",
     "text": [
      "Enter your age:  14\n",
      "Are you a citizen (yes/no)?  yes\n"
     ]
    },
    {
     "name": "stdout",
     "output_type": "stream",
     "text": [
      "You are not old enough to vote.\n"
     ]
    }
   ],
   "source": [
    "# Checking multiple levels of condition\n",
    "age = int(input(\"Enter your age: \"))\n",
    "citizen = input(\"Are you a citizen (yes/no)? \").upper()\n",
    "\n",
    "if age >= 18:\n",
    "    if citizen == \"YES\":\n",
    "        print(\"You are eligible to vote.\")\n",
    "    else:\n",
    "        print(\"Only citizens can vote.\")\n",
    "else:\n",
    "    print(\"You are not old enough to vote.\")"
   ]
  },
  {
   "cell_type": "code",
   "execution_count": 18,
   "id": "bd7a7f69-3ff5-46a1-9126-a2b70603637c",
   "metadata": {},
   "outputs": [
    {
     "name": "stdout",
     "output_type": "stream",
     "text": [
      "Enter your age: 15\n"
     ]
    },
    {
     "name": "stdout",
     "output_type": "stream",
     "text": [
      "you are not old enough to vote.\n"
     ]
    }
   ],
   "source": [
    "age = int(input(\"Enter your age:\"))\n",
    "if age < 18:\n",
    "    print(\"you are not old enough to vote.\")\n",
    "else:\n",
    "    citizen = input(\"Are you a citizen(yes/no)?\").upper()\n",
    "    if citizen == \"YES\":\n",
    "       print(\"you are eligible to vote.\")\n",
    "    else:\n",
    "        print(\"Only citizens can vote.\")\n",
    "\n",
    "\n",
    "\n"
   ]
  },
  {
   "cell_type": "code",
   "execution_count": 22,
   "id": "79e54aac-65d0-4418-9262-cb246b74fdaa",
   "metadata": {},
   "outputs": [
    {
     "name": "stdout",
     "output_type": "stream",
     "text": [
      "Enter your age: 19\n",
      "Are you a citizen?(yes/no): yes\n"
     ]
    },
    {
     "name": "stdout",
     "output_type": "stream",
     "text": [
      "You are eligible to vote.\n"
     ]
    }
   ],
   "source": [
    "age = int(input(\"Enter your age:\"))\n",
    "if age<18:\n",
    "    print(\"You are not old enough to vote\")\n",
    "else:\n",
    "    citizen = input(\"Are you a citizen?(yes/no):\").lower()\n",
    "    if citizen==\"yes\":\n",
    "        print(\"You are eligible to vote.\")\n",
    "    else:\n",
    "        print(\"Only citizens can vote.\")\n",
    "        \n",
    "       "
   ]
  },
  {
   "cell_type": "markdown",
   "id": "ae801a69-a10f-4284-b9ca-69b2196dce20",
   "metadata": {},
   "source": [
    "#  4. Using Boolean Operators"
   ]
  },
  {
   "cell_type": "code",
   "execution_count": 48,
   "id": "7ee7379e-3f30-44cd-971e-4ae9f842adf4",
   "metadata": {},
   "outputs": [
    {
     "name": "stdout",
     "output_type": "stream",
     "text": [
      "Enter username:    \n",
      "Enter password:    \n"
     ]
    },
    {
     "name": "stdout",
     "output_type": "stream",
     "text": [
      "Form submitted successfully.\n"
     ]
    }
   ],
   "source": [
    "# Form validation example\n",
    "username = input(\"Enter username: \")\n",
    "password = input(\"Enter password: \")\n",
    "\n",
    "if username != \"\" and password != \"\" :\n",
    "    print(\"Form submitted successfully.\")\n",
    "else:\n",
    "    print(\"All fields are required.\")"
   ]
  },
  {
   "cell_type": "markdown",
   "id": "c06d1728-fc0b-48a9-9d13-7ed2b1b6c53a",
   "metadata": {},
   "source": [
    "# 5. try and except – Error Handling\n"
   ]
  },
  {
   "cell_type": "code",
   "execution_count": 53,
   "id": "a27b76cc-51c1-4b75-b595-6f9179bd5ddc",
   "metadata": {},
   "outputs": [
    {
     "name": "stdout",
     "output_type": "stream",
     "text": [
      "Enter Hours:  5\n",
      "Enter Rate:  five\n"
     ]
    },
    {
     "name": "stdout",
     "output_type": "stream",
     "text": [
      "Please enter numeric input only.\n"
     ]
    }
   ],
   "source": [
    "# Safe input conversion with error handling\n",
    "try:\n",
    "    hours = float(input(\"Enter Hours: \"))\n",
    "    rate = float(input(\"Enter Rate: \"))\n",
    "    pay = hours * rate\n",
    "    print(\"Pay:\", pay)\n",
    "except:\n",
    "    print(\"Please enter numeric input only.\")"
   ]
  },
  {
   "cell_type": "code",
   "execution_count": 55,
   "id": "28cc4591-f3c9-4aac-80a1-c643328cf977",
   "metadata": {},
   "outputs": [
    {
     "name": "stdout",
     "output_type": "stream",
     "text": [
      "Enter hours: 8\n",
      "Enter rate: 20\n"
     ]
    },
    {
     "name": "stdout",
     "output_type": "stream",
     "text": [
      "Pay R.s.: 160.0\n"
     ]
    }
   ],
   "source": [
    "try:\n",
    "    hours,rate = map(float,[input(\"Enter hours:\"),input(\"Enter rate:\")])\n",
    "    pay = hours*rate\n",
    "    print(\"Pay R.s.:\",pay)\n",
    "except:\n",
    "    print(\"Please enter numeric input only.\")"
   ]
  },
  {
   "cell_type": "markdown",
   "id": "8263f0d9-ef08-41ff-a756-485f10eece8c",
   "metadata": {},
   "source": [
    "# 6. Real World Challenge – Billing System"
   ]
  },
  {
   "cell_type": "code",
   "execution_count": 75,
   "id": "d29912f8-6cd9-41cd-b35a-3dcfed0220ba",
   "metadata": {},
   "outputs": [
    {
     "name": "stdout",
     "output_type": "stream",
     "text": [
      "Enter total bill amount: ₹ 1200\n"
     ]
    },
    {
     "name": "stdout",
     "output_type": "stream",
     "text": [
      "Discount: ₹120.00\n",
      "Final Bill: ₹1080.00\n"
     ]
    }
   ],
   "source": [
    "# Restaurant bill calculator with discount\n",
    "try:\n",
    "    total = float(input(\"Enter total bill amount: ₹\"))\n",
    "    if total > 1000:\n",
    "        discount = total * 0.1\n",
    "    else:\n",
    "        discount = 0\n",
    "    final_amount = total - discount\n",
    "    print(f\"Discount: ₹{discount:.2f}\")\n",
    "    print(f\"Final Bill: ₹{final_amount:.2f}\")\n",
    "except:\n",
    "    print(\"Invalid amount entered.\")"
   ]
  },
  {
   "cell_type": "code",
   "execution_count": 87,
   "id": "d46f2db2-7a70-438d-957c-26daa2eeaa46",
   "metadata": {},
   "outputs": [
    {
     "name": "stdout",
     "output_type": "stream",
     "text": [
      "Enter total bill amount: 540000\n"
     ]
    },
    {
     "name": "stdout",
     "output_type": "stream",
     "text": [
      "Discount: 108000.0\n",
      "Final bill: 432000.0\n"
     ]
    }
   ],
   "source": [
    "try:\n",
    "    total = float(input(\"Enter total bill amount:\"))\n",
    "    if total > 5000:\n",
    "        discount = total*20/100\n",
    "    else:\n",
    "        discount = 0.00\n",
    "    final_amount = total - discount\n",
    "    print(\"Discount:\",round(discount,2))\n",
    "    print(\"Final bill:\",round(final_amount,2))\n",
    "except:\n",
    "    print(\"Invalid amount entered.\")\n",
    "    "
   ]
  },
  {
   "cell_type": "code",
   "execution_count": 97,
   "id": "d77f29ad-2d79-4c6a-a032-b26b26c2a458",
   "metadata": {},
   "outputs": [
    {
     "name": "stdout",
     "output_type": "stream",
     "text": [
      "Enter total bill amount: 52000\n"
     ]
    },
    {
     "name": "stdout",
     "output_type": "stream",
     "text": [
      "Discount: Rs.13000.00\n",
      "Final Bill: Rs.39000.00\n"
     ]
    }
   ],
   "source": [
    "try:\n",
    "    total = float(input(\"Enter total bill amount:\"))\n",
    "    if total > 10000:\n",
    "        discount = total*25/100\n",
    "    else:\n",
    "        discount = 00.00\n",
    "    final_amount = total - discount\n",
    "    print(f\"Discount: Rs.{discount:.2f}\")\n",
    "    print(f\"Final Bill: Rs.{final_amount:.2f}\")\n",
    "except:\n",
    "    print(\"Invalid amount entered.\")\n",
    "        "
   ]
  },
  {
   "cell_type": "markdown",
   "id": "4547b134-a661-4f4d-93a4-fdf851993b5c",
   "metadata": {},
   "source": [
    "# Real World Bonus Challenges"
   ]
  },
  {
   "cell_type": "markdown",
   "id": "5348b10c-0986-47f3-aff3-f5fee99e7945",
   "metadata": {},
   "source": [
    "## 7. Challenge 1: Odd or Even Number Checker"
   ]
  },
  {
   "cell_type": "code",
   "execution_count": 116,
   "id": "1c9880ff-9b16-4eaf-827d-3a58717f4fed",
   "metadata": {},
   "outputs": [
    {
     "name": "stdout",
     "output_type": "stream",
     "text": [
      "Enter a number:  4\n"
     ]
    },
    {
     "name": "stdout",
     "output_type": "stream",
     "text": [
      "It's an EVEN number.\n"
     ]
    }
   ],
   "source": [
    "##  Challenge 1: Odd or Even Number Checker\n",
    "# Ask the user to enter a number and check if it's even or odd.\n",
    "\n",
    "num = float(input(\"Enter a number: \"))\n",
    "\n",
    "if num % 2 == 0:\n",
    "    print(\"It's an EVEN number.\")\n",
    "else:\n",
    "    print(\"It's an ODD number.\")"
   ]
  },
  {
   "cell_type": "markdown",
   "id": "7c4c9139-b7af-406d-ba1b-7c81f25d5498",
   "metadata": {},
   "source": [
    "## Challenge 2: Movie Ticket Price Based on Age"
   ]
  },
  {
   "cell_type": "code",
   "execution_count": 146,
   "id": "9a831c38-62d8-4162-a2f0-781821f9e4fa",
   "metadata": {},
   "outputs": [
    {
     "name": "stdout",
     "output_type": "stream",
     "text": [
      "Enter your age:  12\n"
     ]
    },
    {
     "name": "stdout",
     "output_type": "stream",
     "text": [
      "Ticket Price: ₹100\n"
     ]
    }
   ],
   "source": [
    "# Challenge 2: Movie Ticket Price\n",
    "# Rules:\n",
    "# Age < 5        - Free Ticket\n",
    "# Age 5–18       - ₹100\n",
    "# Age > 18       - ₹150\n",
    "\n",
    "age = int(input(\"Enter your age: \"))\n",
    "\n",
    "if age < 5:\n",
    "    print(\"Ticket is FREE \") \n",
    "elif age <= 18:\n",
    "    print(\"Ticket Price: ₹100\")\n",
    "else:\n",
    "    print(\"Ticket Price: ₹150\") \n"
   ]
  },
  {
   "cell_type": "code",
   "execution_count": 143,
   "id": "035e9711-6802-471c-8af6-1f33cfa5fbef",
   "metadata": {},
   "outputs": [
    {
     "name": "stdout",
     "output_type": "stream",
     "text": [
      "Enter your age: 18\n"
     ]
    },
    {
     "name": "stdout",
     "output_type": "stream",
     "text": [
      "Ticket Price:100 Rs.\n"
     ]
    }
   ],
   "source": [
    "#Rules:\n",
    "#Age <=5         -Free Ticket\n",
    "#Age <=18        -Rs.100\n",
    "#Age >18         -Rs.150\n",
    "\n",
    "age = int(input(\"Enter your age:\"))\n",
    "if age<=5:\n",
    "   print(\"Ticket is FREE.\")\n",
    "elif age<=18:\n",
    "   print(\"Ticket Price:100 Rs.\")\n",
    "else:\n",
    "   print(\"Ticket Price: 150 Rs.\")"
   ]
  },
  {
   "cell_type": "markdown",
   "id": "2b539ac9-4d18-4019-b404-42aceb9bd535",
   "metadata": {},
   "source": [
    "## Challenge 3: Login Validation System"
   ]
  },
  {
   "cell_type": "code",
   "execution_count": 144,
   "id": "7c3d9870-acd0-4709-9fea-f51784f3b07a",
   "metadata": {},
   "outputs": [
    {
     "name": "stdout",
     "output_type": "stream",
     "text": [
      "Enter username:  admin\n",
      "Enter password:  1234\n"
     ]
    },
    {
     "name": "stdout",
     "output_type": "stream",
     "text": [
      " Login Successful! Welcome, Admin.\n"
     ]
    }
   ],
   "source": [
    "# 🧾 Challenge 3: Login Validation\n",
    "# If username is 'admin' and password is '1234', show 'Login successful'\n",
    "# Else show 'Invalid credentials'\n",
    "\n",
    "username = input(\"Enter username: \")\n",
    "password = input(\"Enter password: \")\n",
    "\n",
    "if username == \"admin\" and password == \"1234\":\n",
    "    print(\" Login Successful! Welcome, Admin.\")\n",
    "else:\n",
    "    print(\" Invalid credentials. Please try again.\")\n"
   ]
  },
  {
   "cell_type": "markdown",
   "id": "f7f8ab48-3f9f-4621-82fd-6e1bbeff326b",
   "metadata": {},
   "source": [
    "## Challenge 4.0 : Add senior citizen discount (age > 60)"
   ]
  },
  {
   "cell_type": "code",
   "execution_count": 233,
   "id": "336e5445-9d31-4122-ab0f-c53a3c70f6c9",
   "metadata": {},
   "outputs": [
    {
     "name": "stdout",
     "output_type": "stream",
     "text": [
      "Enter total bill amount: 1200\n",
      "Enter your age. 62\n"
     ]
    },
    {
     "name": "stdout",
     "output_type": "stream",
     "text": [
      "Discount for senior citizen: Rs.600.00\n",
      "Final Bill: 600.00\n"
     ]
    }
   ],
   "source": [
    "try:\n",
    "    total = float(input(\"Enter total bill amount:\"))\n",
    "    age = int(input(\"Enter your age.\"))\n",
    "    if age>60:                \n",
    "        discount = total*50/100     #discount for senior citizen\n",
    "        print(f\"Discount for senior citizen: Rs.{discount:.2f}\")\n",
    "    elif age<=12: \n",
    "        discount = total*20/100               #discount for minors\n",
    "        print(f\"Discount for minors: Rs.{discount:.2f}\") \n",
    "    else:\n",
    "            discount = 0\n",
    "            print(f\"Discount: {discount:.2f}\")\n",
    "\n",
    "    final_bill = total-discount\n",
    "    print(f\"Final Bill: {final_bill:.2f}\")\n",
    "        \n",
    "except:\n",
    "      print(\"invalid amount entered.\")\n",
    "      "
   ]
  },
  {
   "cell_type": "markdown",
   "id": "8d462684-ff47-4b82-a597-a1afef2f91af",
   "metadata": {},
   "source": [
    "## Challenge 4.1 : Add senior citizen discount (age > 60)"
   ]
  },
  {
   "cell_type": "code",
   "execution_count": 7,
   "id": "e580c0c6-0177-4169-ac83-1a6776fba486",
   "metadata": {},
   "outputs": [
    {
     "name": "stdout",
     "output_type": "stream",
     "text": [
      "Enter total bill amount: -2000\n",
      "Enter your age: 20\n"
     ]
    },
    {
     "name": "stdout",
     "output_type": "stream",
     "text": [
      "Discount: 0.00\n",
      "Final Bill: -2000.00\n",
      "Bill can't be negative.\n"
     ]
    }
   ],
   "source": [
    "try:\n",
    "    total = float(input(\"Enter total bill amount:\"))\n",
    "    age = int(input(\"Enter your age:\"))\n",
    "    \n",
    "    if age>60:\n",
    "        discount = total *50/100\n",
    "        print(f\"Discount for senior citizens: {discount:.2f}\")\n",
    "    elif age<=12 and total>1000:\n",
    "            discount = total*20/100\n",
    "            print(f\"Discount for minors: {discount:.2f}\")\n",
    "    else:\n",
    "        discount = 0\n",
    "        print(f\"Discount: {discount:.2f}\")\n",
    "    final_bill = total-discount\n",
    "    print(f\"Final Bill: {final_bill:.2f}\")\n",
    "    if age<0:\n",
    "       print(\"Age can't be negative.\")\n",
    "    elif total<0:\n",
    "        print(\"Bill can't be negative.\")\n",
    "except ValueError:\n",
    "                 print(\"invalid amount entered.\")\n",
    "        \n",
    "        "
   ]
  },
  {
   "cell_type": "code",
   "execution_count": 1,
   "id": "4171ced2-5bbf-4079-8518-4b25b1f42256",
   "metadata": {},
   "outputs": [
    {
     "name": "stdout",
     "output_type": "stream",
     "text": [
      "What is your birth year? 2006\n",
      "Enter Current Year. 2025\n"
     ]
    },
    {
     "name": "stdout",
     "output_type": "stream",
     "text": [
      "Your age is: 19.0\n"
     ]
    }
   ],
   "source": [
    "Birthyear = float(input(\"What is your birth year?\"))\n",
    "Currentyear = int(input(\"Enter Current Year.\"))\n",
    "Age = Currentyear - Birthyear\n",
    "print(\"Your age is:\", Age)\n"
   ]
  },
  {
   "cell_type": "code",
   "execution_count": null,
   "id": "c50d930c-ae55-462d-847e-bee2371ca9ab",
   "metadata": {},
   "outputs": [],
   "source": []
  }
 ],
 "metadata": {
  "kernelspec": {
   "display_name": "Python 3 (ipykernel)",
   "language": "python",
   "name": "python3"
  },
  "language_info": {
   "codemirror_mode": {
    "name": "ipython",
    "version": 3
   },
   "file_extension": ".py",
   "mimetype": "text/x-python",
   "name": "python",
   "nbconvert_exporter": "python",
   "pygments_lexer": "ipython3",
   "version": "3.12.7"
  }
 },
 "nbformat": 4,
 "nbformat_minor": 5
}
